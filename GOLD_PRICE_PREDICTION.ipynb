{
 "cells": [
  {
   "cell_type": "code",
   "execution_count": 1,
   "id": "8edf7232",
   "metadata": {},
   "outputs": [],
   "source": [
    "#importing libraries\n",
    "import numpy as np\n",
    "import pandas as pd\n",
    "import matplotlib.pyplot as plt\n",
    "import seaborn as sns"
   ]
  },
  {
   "cell_type": "code",
   "execution_count": 2,
   "id": "31837f11",
   "metadata": {},
   "outputs": [],
   "source": [
    "#loading the dataset and data preprocessing\n",
    "#loading the csv as pandas df\n",
    "gold_data = pd.read_csv('gld-price-data-csv.csv')"
   ]
  },
  {
   "cell_type": "code",
   "execution_count": 3,
   "id": "956fd8a4",
   "metadata": {
    "scrolled": false
   },
   "outputs": [
    {
     "data": {
      "text/html": [
       "<div>\n",
       "<style scoped>\n",
       "    .dataframe tbody tr th:only-of-type {\n",
       "        vertical-align: middle;\n",
       "    }\n",
       "\n",
       "    .dataframe tbody tr th {\n",
       "        vertical-align: top;\n",
       "    }\n",
       "\n",
       "    .dataframe thead th {\n",
       "        text-align: right;\n",
       "    }\n",
       "</style>\n",
       "<table border=\"1\" class=\"dataframe\">\n",
       "  <thead>\n",
       "    <tr style=\"text-align: right;\">\n",
       "      <th></th>\n",
       "      <th>Date</th>\n",
       "      <th>SPX</th>\n",
       "      <th>GLD</th>\n",
       "      <th>USO</th>\n",
       "      <th>SLV</th>\n",
       "      <th>EUR/USD</th>\n",
       "    </tr>\n",
       "  </thead>\n",
       "  <tbody>\n",
       "    <tr>\n",
       "      <th>0</th>\n",
       "      <td>1/2/2008</td>\n",
       "      <td>1447.160034</td>\n",
       "      <td>84.860001</td>\n",
       "      <td>78.470001</td>\n",
       "      <td>15.180</td>\n",
       "      <td>1.471692</td>\n",
       "    </tr>\n",
       "    <tr>\n",
       "      <th>1</th>\n",
       "      <td>1/3/2008</td>\n",
       "      <td>1447.160034</td>\n",
       "      <td>85.570000</td>\n",
       "      <td>78.370003</td>\n",
       "      <td>15.285</td>\n",
       "      <td>1.474491</td>\n",
       "    </tr>\n",
       "    <tr>\n",
       "      <th>2</th>\n",
       "      <td>1/4/2008</td>\n",
       "      <td>1411.630005</td>\n",
       "      <td>85.129997</td>\n",
       "      <td>77.309998</td>\n",
       "      <td>15.167</td>\n",
       "      <td>1.475492</td>\n",
       "    </tr>\n",
       "    <tr>\n",
       "      <th>3</th>\n",
       "      <td>1/7/2008</td>\n",
       "      <td>1416.180054</td>\n",
       "      <td>84.769997</td>\n",
       "      <td>75.500000</td>\n",
       "      <td>15.053</td>\n",
       "      <td>1.468299</td>\n",
       "    </tr>\n",
       "    <tr>\n",
       "      <th>4</th>\n",
       "      <td>1/8/2008</td>\n",
       "      <td>1390.189941</td>\n",
       "      <td>86.779999</td>\n",
       "      <td>76.059998</td>\n",
       "      <td>15.590</td>\n",
       "      <td>1.557099</td>\n",
       "    </tr>\n",
       "  </tbody>\n",
       "</table>\n",
       "</div>"
      ],
      "text/plain": [
       "       Date          SPX        GLD        USO     SLV   EUR/USD\n",
       "0  1/2/2008  1447.160034  84.860001  78.470001  15.180  1.471692\n",
       "1  1/3/2008  1447.160034  85.570000  78.370003  15.285  1.474491\n",
       "2  1/4/2008  1411.630005  85.129997  77.309998  15.167  1.475492\n",
       "3  1/7/2008  1416.180054  84.769997  75.500000  15.053  1.468299\n",
       "4  1/8/2008  1390.189941  86.779999  76.059998  15.590  1.557099"
      ]
     },
     "execution_count": 3,
     "metadata": {},
     "output_type": "execute_result"
    }
   ],
   "source": [
    "gold_data.head()"
   ]
  },
  {
   "cell_type": "code",
   "execution_count": 4,
   "id": "8da07187",
   "metadata": {},
   "outputs": [
    {
     "data": {
      "text/plain": [
       "(2290, 6)"
      ]
     },
     "execution_count": 4,
     "metadata": {},
     "output_type": "execute_result"
    }
   ],
   "source": [
    "gold_data.shape"
   ]
  },
  {
   "cell_type": "code",
   "execution_count": 5,
   "id": "489a280b",
   "metadata": {},
   "outputs": [
    {
     "name": "stdout",
     "output_type": "stream",
     "text": [
      "<class 'pandas.core.frame.DataFrame'>\n",
      "RangeIndex: 2290 entries, 0 to 2289\n",
      "Data columns (total 6 columns):\n",
      " #   Column   Non-Null Count  Dtype  \n",
      "---  ------   --------------  -----  \n",
      " 0   Date     2290 non-null   object \n",
      " 1   SPX      2290 non-null   float64\n",
      " 2   GLD      2290 non-null   float64\n",
      " 3   USO      2290 non-null   float64\n",
      " 4   SLV      2290 non-null   float64\n",
      " 5   EUR/USD  2290 non-null   float64\n",
      "dtypes: float64(5), object(1)\n",
      "memory usage: 107.5+ KB\n"
     ]
    }
   ],
   "source": [
    "gold_data.info()\n",
    "#checking datatypes"
   ]
  },
  {
   "cell_type": "code",
   "execution_count": 6,
   "id": "2b8633f5",
   "metadata": {},
   "outputs": [
    {
     "data": {
      "text/plain": [
       "Date       0\n",
       "SPX        0\n",
       "GLD        0\n",
       "USO        0\n",
       "SLV        0\n",
       "EUR/USD    0\n",
       "dtype: int64"
      ]
     },
     "execution_count": 6,
     "metadata": {},
     "output_type": "execute_result"
    }
   ],
   "source": [
    "gold_data.isnull().sum()\n",
    "#no missing data"
   ]
  },
  {
   "cell_type": "code",
   "execution_count": 7,
   "id": "3c8d048a",
   "metadata": {
    "scrolled": true
   },
   "outputs": [
    {
     "data": {
      "text/html": [
       "<div>\n",
       "<style scoped>\n",
       "    .dataframe tbody tr th:only-of-type {\n",
       "        vertical-align: middle;\n",
       "    }\n",
       "\n",
       "    .dataframe tbody tr th {\n",
       "        vertical-align: top;\n",
       "    }\n",
       "\n",
       "    .dataframe thead th {\n",
       "        text-align: right;\n",
       "    }\n",
       "</style>\n",
       "<table border=\"1\" class=\"dataframe\">\n",
       "  <thead>\n",
       "    <tr style=\"text-align: right;\">\n",
       "      <th></th>\n",
       "      <th>SPX</th>\n",
       "      <th>GLD</th>\n",
       "      <th>USO</th>\n",
       "      <th>SLV</th>\n",
       "      <th>EUR/USD</th>\n",
       "    </tr>\n",
       "  </thead>\n",
       "  <tbody>\n",
       "    <tr>\n",
       "      <th>count</th>\n",
       "      <td>2290.000000</td>\n",
       "      <td>2290.000000</td>\n",
       "      <td>2290.000000</td>\n",
       "      <td>2290.000000</td>\n",
       "      <td>2290.000000</td>\n",
       "    </tr>\n",
       "    <tr>\n",
       "      <th>mean</th>\n",
       "      <td>1654.315776</td>\n",
       "      <td>122.732875</td>\n",
       "      <td>31.842221</td>\n",
       "      <td>20.084997</td>\n",
       "      <td>1.283653</td>\n",
       "    </tr>\n",
       "    <tr>\n",
       "      <th>std</th>\n",
       "      <td>519.111540</td>\n",
       "      <td>23.283346</td>\n",
       "      <td>19.523517</td>\n",
       "      <td>7.092566</td>\n",
       "      <td>0.131547</td>\n",
       "    </tr>\n",
       "    <tr>\n",
       "      <th>min</th>\n",
       "      <td>676.530029</td>\n",
       "      <td>70.000000</td>\n",
       "      <td>7.960000</td>\n",
       "      <td>8.850000</td>\n",
       "      <td>1.039047</td>\n",
       "    </tr>\n",
       "    <tr>\n",
       "      <th>25%</th>\n",
       "      <td>1239.874969</td>\n",
       "      <td>109.725000</td>\n",
       "      <td>14.380000</td>\n",
       "      <td>15.570000</td>\n",
       "      <td>1.171313</td>\n",
       "    </tr>\n",
       "    <tr>\n",
       "      <th>50%</th>\n",
       "      <td>1551.434998</td>\n",
       "      <td>120.580002</td>\n",
       "      <td>33.869999</td>\n",
       "      <td>17.268500</td>\n",
       "      <td>1.303297</td>\n",
       "    </tr>\n",
       "    <tr>\n",
       "      <th>75%</th>\n",
       "      <td>2073.010070</td>\n",
       "      <td>132.840004</td>\n",
       "      <td>37.827501</td>\n",
       "      <td>22.882500</td>\n",
       "      <td>1.369971</td>\n",
       "    </tr>\n",
       "    <tr>\n",
       "      <th>max</th>\n",
       "      <td>2872.870117</td>\n",
       "      <td>184.589996</td>\n",
       "      <td>117.480003</td>\n",
       "      <td>47.259998</td>\n",
       "      <td>1.598798</td>\n",
       "    </tr>\n",
       "  </tbody>\n",
       "</table>\n",
       "</div>"
      ],
      "text/plain": [
       "               SPX          GLD          USO          SLV      EUR/USD\n",
       "count  2290.000000  2290.000000  2290.000000  2290.000000  2290.000000\n",
       "mean   1654.315776   122.732875    31.842221    20.084997     1.283653\n",
       "std     519.111540    23.283346    19.523517     7.092566     0.131547\n",
       "min     676.530029    70.000000     7.960000     8.850000     1.039047\n",
       "25%    1239.874969   109.725000    14.380000    15.570000     1.171313\n",
       "50%    1551.434998   120.580002    33.869999    17.268500     1.303297\n",
       "75%    2073.010070   132.840004    37.827501    22.882500     1.369971\n",
       "max    2872.870117   184.589996   117.480003    47.259998     1.598798"
      ]
     },
     "execution_count": 7,
     "metadata": {},
     "output_type": "execute_result"
    }
   ],
   "source": [
    "gold_data.describe()\n",
    "#statistical info about data"
   ]
  },
  {
   "cell_type": "code",
   "execution_count": 8,
   "id": "f7b5b9b0",
   "metadata": {},
   "outputs": [],
   "source": [
    "#CORRELATION BETWEEN COLUMNS(POSITIVE AND NEGATIVE)"
   ]
  },
  {
   "cell_type": "code",
   "execution_count": 9,
   "id": "e1921587",
   "metadata": {},
   "outputs": [],
   "source": [
    "correlation = gold_data.corr()"
   ]
  },
  {
   "cell_type": "code",
   "execution_count": 10,
   "id": "fc455822",
   "metadata": {},
   "outputs": [
    {
     "data": {
      "text/html": [
       "<div>\n",
       "<style scoped>\n",
       "    .dataframe tbody tr th:only-of-type {\n",
       "        vertical-align: middle;\n",
       "    }\n",
       "\n",
       "    .dataframe tbody tr th {\n",
       "        vertical-align: top;\n",
       "    }\n",
       "\n",
       "    .dataframe thead th {\n",
       "        text-align: right;\n",
       "    }\n",
       "</style>\n",
       "<table border=\"1\" class=\"dataframe\">\n",
       "  <thead>\n",
       "    <tr style=\"text-align: right;\">\n",
       "      <th></th>\n",
       "      <th>SPX</th>\n",
       "      <th>GLD</th>\n",
       "      <th>USO</th>\n",
       "      <th>SLV</th>\n",
       "      <th>EUR/USD</th>\n",
       "    </tr>\n",
       "  </thead>\n",
       "  <tbody>\n",
       "    <tr>\n",
       "      <th>SPX</th>\n",
       "      <td>1.000000</td>\n",
       "      <td>0.049345</td>\n",
       "      <td>-0.591573</td>\n",
       "      <td>-0.274055</td>\n",
       "      <td>-0.672017</td>\n",
       "    </tr>\n",
       "    <tr>\n",
       "      <th>GLD</th>\n",
       "      <td>0.049345</td>\n",
       "      <td>1.000000</td>\n",
       "      <td>-0.186360</td>\n",
       "      <td>0.866632</td>\n",
       "      <td>-0.024375</td>\n",
       "    </tr>\n",
       "    <tr>\n",
       "      <th>USO</th>\n",
       "      <td>-0.591573</td>\n",
       "      <td>-0.186360</td>\n",
       "      <td>1.000000</td>\n",
       "      <td>0.167547</td>\n",
       "      <td>0.829317</td>\n",
       "    </tr>\n",
       "    <tr>\n",
       "      <th>SLV</th>\n",
       "      <td>-0.274055</td>\n",
       "      <td>0.866632</td>\n",
       "      <td>0.167547</td>\n",
       "      <td>1.000000</td>\n",
       "      <td>0.321631</td>\n",
       "    </tr>\n",
       "    <tr>\n",
       "      <th>EUR/USD</th>\n",
       "      <td>-0.672017</td>\n",
       "      <td>-0.024375</td>\n",
       "      <td>0.829317</td>\n",
       "      <td>0.321631</td>\n",
       "      <td>1.000000</td>\n",
       "    </tr>\n",
       "  </tbody>\n",
       "</table>\n",
       "</div>"
      ],
      "text/plain": [
       "              SPX       GLD       USO       SLV   EUR/USD\n",
       "SPX      1.000000  0.049345 -0.591573 -0.274055 -0.672017\n",
       "GLD      0.049345  1.000000 -0.186360  0.866632 -0.024375\n",
       "USO     -0.591573 -0.186360  1.000000  0.167547  0.829317\n",
       "SLV     -0.274055  0.866632  0.167547  1.000000  0.321631\n",
       "EUR/USD -0.672017 -0.024375  0.829317  0.321631  1.000000"
      ]
     },
     "execution_count": 10,
     "metadata": {},
     "output_type": "execute_result"
    }
   ],
   "source": [
    "correlation"
   ]
  },
  {
   "cell_type": "code",
   "execution_count": 11,
   "id": "3929d203",
   "metadata": {},
   "outputs": [
    {
     "data": {
      "text/plain": [
       "<AxesSubplot:>"
      ]
     },
     "execution_count": 11,
     "metadata": {},
     "output_type": "execute_result"
    },
    {
     "data": {
      "image/png": "[encoded data removed]",
      "text/plain": [
       "<Figure size 800x800 with 2 Axes>"
      ]
     },
     "metadata": {},
     "output_type": "display_data"
    }
   ],
   "source": [
    "#generation of heatmap to understand the correlation visually\n",
    "plt.figure(figsize = (8,8))\n",
    "sns.heatmap(correlation, cbar=True, square=True, fmt='.1f',annot=True, annot_kws={'size':10}, cmap='Reds')"
   ]
  },
  {
   "cell_type": "code",
   "execution_count": 12,
   "id": "4798eeb7",
   "metadata": {},
   "outputs": [
    {
     "data": {
      "text/plain": [
       "'correlation: This variable represents the correlation matrix that you want to visualize.\\ncbar=True: It displays a color bar that indicates the values associated with the colors in the heatmap.\\nsquare=True: It makes the heatmap cells square-shaped.\\nfmt=\\'.1f\\': It formats the numerical values in the cells to have one decimal place.\\nannot=True: It displays the actual correlation values in each cell.\\nannot_kws={\\'size\\':8}: It sets the size of the annotation text to 8 points.\\ncmap=\\'Blues\\': It specifies the color map to be used for the heatmap, in this case, the \"Blues\" color map.'"
      ]
     },
     "execution_count": 12,
     "metadata": {},
     "output_type": "execute_result"
    }
   ],
   "source": [
    "'''correlation: This variable represents the correlation matrix that you want to visualize.\n",
    "cbar=True: It displays a color bar that indicates the values associated with the colors in the heatmap.\n",
    "square=True: It makes the heatmap cells square-shaped.\n",
    "fmt='.1f': It formats the numerical values in the cells to have one decimal place.\n",
    "annot=True: It displays the actual correlation values in each cell.\n",
    "annot_kws={'size':8}: It sets the size of the annotation text to 8 points.\n",
    "cmap='Blues': It specifies the color map to be used for the heatmap, in this case, the \"Blues\" color map.'''"
   ]
  },
  {
   "cell_type": "code",
   "execution_count": 13,
   "id": "8e44d538",
   "metadata": {},
   "outputs": [
    {
     "name": "stdout",
     "output_type": "stream",
     "text": [
      "SPX        0.049345\n",
      "GLD        1.000000\n",
      "USO       -0.186360\n",
      "SLV        0.866632\n",
      "EUR/USD   -0.024375\n",
      "Name: GLD, dtype: float64\n"
     ]
    }
   ],
   "source": [
    "# correlation values of GOLD\n",
    "print(correlation['GLD'])"
   ]
  },
  {
   "cell_type": "code",
   "execution_count": 14,
   "id": "df251363",
   "metadata": {
    "scrolled": true
   },
   "outputs": [
    {
     "name": "stderr",
     "output_type": "stream",
     "text": [
      "/Users/cinthiyasingh/opt/anaconda3/lib/python3.9/site-packages/seaborn/distributions.py:2619: FutureWarning: `distplot` is a deprecated function and will be removed in a future version. Please adapt your code to use either `displot` (a figure-level function with similar flexibility) or `histplot` (an axes-level function for histograms).\n",
      "  warnings.warn(msg, FutureWarning)\n"
     ]
    },
    {
     "data": {
      "text/plain": [
       "<AxesSubplot:xlabel='GLD', ylabel='Density'>"
      ]
     },
     "execution_count": 14,
     "metadata": {},
     "output_type": "execute_result"
    },
    {
     "data": {
      "image/png": "[encoded data removed]",
      "text/plain": [
       "<Figure size 640x480 with 1 Axes>"
      ]
     },
     "metadata": {},
     "output_type": "display_data"
    }
   ],
   "source": [
    "sns.distplot(gold_data['GLD'],color='red')"
   ]
  },
  {
   "cell_type": "code",
   "execution_count": 15,
   "id": "3bc34c07",
   "metadata": {},
   "outputs": [],
   "source": [
    "#SPLITTING OF FEATURES AND TARGET\n",
    "X = gold_data.drop(['Date','GLD'],axis=1)\n",
    "Y = gold_data['GLD']"
   ]
  },
  {
   "cell_type": "code",
   "execution_count": 16,
   "id": "c504f872",
   "metadata": {},
   "outputs": [
    {
     "name": "stdout",
     "output_type": "stream",
     "text": [
      "              SPX        USO      SLV   EUR/USD\n",
      "0     1447.160034  78.470001  15.1800  1.471692\n",
      "1     1447.160034  78.370003  15.2850  1.474491\n",
      "2     1411.630005  77.309998  15.1670  1.475492\n",
      "3     1416.180054  75.500000  15.0530  1.468299\n",
      "4     1390.189941  76.059998  15.5900  1.557099\n",
      "...           ...        ...      ...       ...\n",
      "2285  2671.919922  14.060000  15.5100  1.186789\n",
      "2286  2697.790039  14.370000  15.5300  1.184722\n",
      "2287  2723.070068  14.410000  15.7400  1.191753\n",
      "2288  2730.129883  14.380000  15.5600  1.193118\n",
      "2289  2725.780029  14.405800  15.4542  1.182033\n",
      "\n",
      "[2290 rows x 4 columns]\n"
     ]
    }
   ],
   "source": [
    "print(X)"
   ]
  },
  {
   "cell_type": "code",
   "execution_count": 17,
   "id": "aa6d32ce",
   "metadata": {},
   "outputs": [
    {
     "name": "stdout",
     "output_type": "stream",
     "text": [
      "0        84.860001\n",
      "1        85.570000\n",
      "2        85.129997\n",
      "3        84.769997\n",
      "4        86.779999\n",
      "           ...    \n",
      "2285    124.589996\n",
      "2286    124.330002\n",
      "2287    125.180000\n",
      "2288    124.489998\n",
      "2289    122.543800\n",
      "Name: GLD, Length: 2290, dtype: float64\n"
     ]
    }
   ],
   "source": [
    "print(Y)"
   ]
  },
  {
   "cell_type": "code",
   "execution_count": 18,
   "id": "56d08d51",
   "metadata": {},
   "outputs": [],
   "source": [
    "#splitting into testing and training data\n",
    "from sklearn.model_selection import train_test_split"
   ]
  },
  {
   "cell_type": "code",
   "execution_count": 19,
   "id": "fcd8c02d",
   "metadata": {},
   "outputs": [],
   "source": [
    "X_train, X_test, Y_train, Y_test = train_test_split(X, Y, test_size = 0.2, random_state=2)"
   ]
  },
  {
   "cell_type": "code",
   "execution_count": 20,
   "id": "3ca5a3f3",
   "metadata": {},
   "outputs": [],
   "source": [
    "#RANDOM FOREST REGRESSOR MODEL TRAINING\n",
    "from sklearn.ensemble import RandomForestRegressor\n",
    "from sklearn import metrics"
   ]
  },
  {
   "cell_type": "code",
   "execution_count": 21,
   "id": "0f563223",
   "metadata": {},
   "outputs": [],
   "source": [
    "reg = RandomForestRegressor(n_estimators=100)\n",
    "#n_estimators specifies number of decision tress used"
   ]
  },
  {
   "cell_type": "code",
   "execution_count": 22,
   "id": "5a6de9ed",
   "metadata": {},
   "outputs": [],
   "source": [
    "#TRAIN!TRAIN!TRAIN!!!!\n",
    "rf=reg.fit(X_train,Y_train)"
   ]
  },
  {
   "cell_type": "code",
   "execution_count": 23,
   "id": "71cde0a1",
   "metadata": {},
   "outputs": [],
   "source": [
    "#evaluation\n",
    "test_data_pred = reg.predict(X_test)"
   ]
  },
  {
   "cell_type": "code",
   "execution_count": 24,
   "id": "075ccae4",
   "metadata": {},
   "outputs": [
    {
     "name": "stdout",
     "output_type": "stream",
     "text": [
      "[168.65149904  81.95599991 115.63679984 127.76870076 120.63820126\n",
      " 154.76789776 150.1682983  126.08500055 117.3597987  125.88820111\n",
      " 116.44790136 171.65090084 142.00569844 168.21849843 115.05030003\n",
      " 117.7180007  137.93360323 170.25730121 159.67860321 157.78129842\n",
      " 154.97240011 124.966      175.80090007 157.51670354 125.18020025\n",
      "  94.01579977  77.18410018 120.44829988 119.16549983 167.30840025\n",
      "  88.33240036 125.05099997  91.09590109 117.66150008 121.14359895\n",
      " 136.57040108 115.66720079 115.53880054 147.50039981 106.92350099\n",
      " 103.93980226  87.13209804 126.54640072 118.09469974 153.32519961\n",
      " 119.50240011 108.28880003 107.90939834  93.1827005  127.19229775\n",
      "  74.95440027 113.59059911 121.32430012 111.17509896 119.0124992\n",
      " 120.6405998  159.80370111 167.34660092 146.7462968   85.85069894\n",
      "  94.52550045  86.63949922  90.62410007 118.78490072 126.46230064\n",
      " 127.58740009 169.08740068 122.31659905 117.26919909  98.52450011\n",
      " 167.51090079 143.18709844 132.34930265 121.10160241 121.43119966\n",
      " 119.7680002  114.37750163 118.25840075 106.99370096 127.91280031\n",
      " 113.8040994  106.54939976 116.90140017 119.53679885  88.51570062\n",
      "  88.36019869 146.55310239 127.18049937 113.29350036 110.34549816\n",
      " 108.24609883  76.96569918 168.93130159 114.0456992  121.69409872\n",
      " 128.06480163 154.94809813  91.80169926 137.23010087 159.20060294\n",
      " 125.3256007  125.36760059 130.86150194 114.86730124 119.78869984\n",
      "  92.19599999 110.5223987  168.34009953 157.20899887 114.16319968\n",
      " 106.52590149  79.46739968 113.21480059 125.78230083 106.9873991\n",
      " 119.13840079 155.60500281 159.85709848 120.04050005 134.417203\n",
      " 101.21100011 117.42429818 119.33640003 112.93380081 102.8650994\n",
      " 160.28619786  99.05650001 147.18619986 125.62460112 169.48099889\n",
      " 126.02869851 127.47389697 127.31890112 113.86479924 112.91760073\n",
      " 123.65679882 102.20789878  89.44469983 124.25999977 102.14639948\n",
      " 106.97579955 113.36700045 117.11890104  99.09319942 121.79390076\n",
      " 163.73229937  87.34479858 106.84019979 117.25060063 127.658401\n",
      " 124.02850074  80.78029948 120.11570074 159.09779724  87.93049981\n",
      " 110.30929955 119.04929911 171.23749805 103.05849905 105.76400036\n",
      " 122.45410041 158.97339703  87.38099826  92.96550019 112.5998003\n",
      " 178.16339987 114.49729965 119.36069989  94.54350093 125.68940049\n",
      " 165.98640134 114.77990058 116.78360128  88.35309857 148.67100064\n",
      " 120.4210992   89.45639989 112.3712002  117.05810054 118.80950109\n",
      "  88.14509921  94.18120005 116.88330003 118.46380176 120.22160052\n",
      " 126.91849792 121.92169968 149.34870025 164.57730056 118.58629961\n",
      " 120.41340151 150.66260055 118.74449924 172.52929889 105.2055993\n",
      " 105.06960129 149.70860074 113.35670088 124.73370111 146.99739899\n",
      " 119.59820117 115.33920042 112.49090014 113.49970201 141.05100134\n",
      " 118.06879748 102.89570043 115.89920132 103.47010167  98.75970039\n",
      " 117.42330073  90.55760003  91.56700068 153.78839911 102.78009961\n",
      " 154.82080074 114.36000163 139.78500137  90.00229805 115.41709878\n",
      " 114.39749956 123.00609997 121.70280041 165.37430144  92.88469943\n",
      " 134.98470107 121.36419909 120.77140053 104.51410017 142.33160284\n",
      " 122.0687994  116.48540045 113.59530107 127.29539705 122.88719956\n",
      " 125.79209937 121.2247003   86.91699948 132.31720172 145.53980197\n",
      "  92.6979996  159.89059962 159.26770208 126.54709889 164.46879971\n",
      " 108.76519944 110.15190065 103.63729791  94.57700093 127.91120293\n",
      " 107.00450069 162.13709938 121.70870054 131.78770028 130.94490223\n",
      " 161.11920011  90.03609853 175.68360207 127.79010062 126.80399821\n",
      "  86.34419941 124.65839929 150.30199741  89.60730026 107.01859973\n",
      " 108.94779997  84.06029872 136.28129953 154.96590223 137.77990325\n",
      "  74.1123005  152.09560107 126.33600038 126.76050038 127.5131992\n",
      " 108.56119968 156.13610078 114.452701   116.93240142 125.50329963\n",
      " 154.18620146 121.4025     156.36839878  93.07500064 125.4853015\n",
      " 125.75330066  87.88100047  92.19139901 126.22740002 128.38900415\n",
      " 113.2528003  117.78789739 120.89930028 127.5472975  119.97940104\n",
      " 136.27240055  93.88699937 119.95070025 113.35000109  94.23079949\n",
      " 108.81119979  86.72469892 109.35419957  89.61009966  92.4464001\n",
      " 131.9500035  162.41689992  89.3044001  119.37130084 133.11480144\n",
      " 123.88610017 128.2927022  101.91889823  89.05719874 132.01910025\n",
      " 119.77110031 108.59489998 169.1761008  115.12560061  86.71469874\n",
      " 118.82500053  90.84479969 161.88720007 116.4855006  121.70930001\n",
      " 160.25429705 120.07209937 112.85399937 108.45909855 126.68780006\n",
      "  75.93760043 102.9623998  127.92280282 121.79200015  92.58210014\n",
      " 132.98560046 118.00960149 116.24820009 154.65230253 158.44960068\n",
      " 110.07769938 155.64119757 119.1986008  160.36760025 118.38700023\n",
      " 156.26779932 115.03579904 116.53350022 148.94829941 114.97050078\n",
      " 125.90139831 166.17849859 117.79110011 125.33629927 153.47680312\n",
      " 153.49210277 132.06969997 114.98940039 121.23570221 125.04990097\n",
      "  89.79670039 123.20090015 154.73770225 111.62480034 106.68430003\n",
      " 162.07870107 118.53749963 165.52409984 134.12010088 114.95329945\n",
      " 153.006099   168.60010098 115.31769997 114.06230117 158.36809913\n",
      "  85.35529873 127.08200074 127.8964005  128.87489984 124.42120066\n",
      " 123.94810079  90.61270128 153.40639947  96.90469983 136.75209968\n",
      "  89.22059949 106.55249981 115.12290052 112.74740076 124.28099945\n",
      "  91.41859853 125.37870141 162.47309871 119.82469925 165.08970092\n",
      " 126.93889746 112.20829998 127.53779904  94.88659938  91.18609996\n",
      " 103.68139925 120.90329996  82.96529976 126.43060002 160.17020469\n",
      " 117.26760081 118.1945     120.11799979 122.70049961 120.16940154\n",
      " 121.55930054 118.36370009 106.79490019 148.0882003  126.38019829\n",
      " 115.74410079  73.84180006 127.78670091 154.61030035 122.76669995\n",
      " 125.52290058  88.77090037 103.30999884 124.92720051 120.28370045\n",
      "  73.52960066 151.46839978 121.11400046 104.7278      86.39369742\n",
      " 114.92039892 172.21779819 119.62660044 158.62929738 113.30149927\n",
      " 121.25040029 118.49370116  96.07979992 118.85889977 126.06420027\n",
      " 118.63339971  95.90410075 153.87100149 122.06070001 147.18650014\n",
      " 159.26120272 113.69840034 122.4345995  149.74119805 127.28490011\n",
      " 165.92660082 135.58520006 120.10309952 167.3112986  108.17519924\n",
      " 121.72369879 139.04470185 106.08609893]\n"
     ]
    }
   ],
   "source": [
    "print(test_data_pred)"
   ]
  },
  {
   "cell_type": "code",
   "execution_count": 25,
   "id": "0e422245",
   "metadata": {},
   "outputs": [
    {
     "name": "stdout",
     "output_type": "stream",
     "text": [
      "R squared error :  0.9890679802812352\n"
     ]
    }
   ],
   "source": [
    "# R squared error calculation\n",
    "error_score = metrics.r2_score(Y_test, test_data_pred)\n",
    "print(\"R squared error : \", error_score)"
   ]
  },
  {
   "cell_type": "code",
   "execution_count": 26,
   "id": "e3d9c1d2",
   "metadata": {},
   "outputs": [],
   "source": [
    "#Comparision of actual and predicted\n",
    "Y_test = list(Y_test)"
   ]
  },
  {
   "cell_type": "code",
   "execution_count": 27,
   "id": "18f42ff6",
   "metadata": {},
   "outputs": [
    {
     "data": {
      "image/png": "[encoded data removed]",
      "text/plain": [
       "<Figure size 640x480 with 1 Axes>"
      ]
     },
     "metadata": {},
     "output_type": "display_data"
    }
   ],
   "source": [
    "plt.plot(Y_test, color='red', label = 'Actual Value')\n",
    "plt.plot(test_data_pred, color='pink', label='Predicted Value')\n",
    "plt.title('Actual Price vs Predicted Price')\n",
    "plt.xlabel('Number of values')\n",
    "plt.ylabel('GLD Price')\n",
    "plt.legend()\n",
    "plt.show()"
   ]
  },
  {
   "cell_type": "code",
   "execution_count": 28,
   "id": "83da33e6",
   "metadata": {},
   "outputs": [
    {
     "name": "stdout",
     "output_type": "stream",
     "text": [
      "COST IS HIGH\n"
     ]
    }
   ],
   "source": [
    "new_data = pd.DataFrame({\n",
    "    'SPX':1654.315776,\n",
    "    'USO':31.842221,\n",
    "    'SLV':20.084997,\n",
    "    'EUR/USD':1.283653,   \n",
    "},index=[0])\n",
    "new_data\n",
    "p = rf.predict(new_data)\n",
    "if p[0]>=122.732875:\n",
    "    print(\"COST IS HIGH\")\n",
    "else:\n",
    "    print(\"COST IS LOW\")"
   ]
  },
  {
   "cell_type": "code",
   "execution_count": 29,
   "id": "cbf46856",
   "metadata": {},
   "outputs": [
    {
     "data": {
      "text/plain": [
       "array([130.45590082])"
      ]
     },
     "execution_count": 29,
     "metadata": {},
     "output_type": "execute_result"
    }
   ],
   "source": [
    "import joblib\n",
    "joblib.dump(rf,'model_joblib_gold.pkl')\n",
    "model = joblib.load('model_joblib_gold.pkl')\n",
    "model.predict(new_data)\n"
   ]
  },
  {
   "cell_type": "code",
   "execution_count": 30,
   "id": "7dce0810",
   "metadata": {},
   "outputs": [
    {
     "data": {
      "text/html": [
       "<div>\n",
       "<style scoped>\n",
       "    .dataframe tbody tr th:only-of-type {\n",
       "        vertical-align: middle;\n",
       "    }\n",
       "\n",
       "    .dataframe tbody tr th {\n",
       "        vertical-align: top;\n",
       "    }\n",
       "\n",
       "    .dataframe thead th {\n",
       "        text-align: right;\n",
       "    }\n",
       "</style>\n",
       "<table border=\"1\" class=\"dataframe\">\n",
       "  <thead>\n",
       "    <tr style=\"text-align: right;\">\n",
       "      <th></th>\n",
       "      <th>Date</th>\n",
       "      <th>SPX</th>\n",
       "      <th>GLD</th>\n",
       "      <th>USO</th>\n",
       "      <th>SLV</th>\n",
       "      <th>EUR/USD</th>\n",
       "    </tr>\n",
       "  </thead>\n",
       "  <tbody>\n",
       "    <tr>\n",
       "      <th>2285</th>\n",
       "      <td>5/8/2018</td>\n",
       "      <td>2671.919922</td>\n",
       "      <td>124.589996</td>\n",
       "      <td>14.0600</td>\n",
       "      <td>15.5100</td>\n",
       "      <td>1.186789</td>\n",
       "    </tr>\n",
       "    <tr>\n",
       "      <th>2286</th>\n",
       "      <td>5/9/2018</td>\n",
       "      <td>2697.790039</td>\n",
       "      <td>124.330002</td>\n",
       "      <td>14.3700</td>\n",
       "      <td>15.5300</td>\n",
       "      <td>1.184722</td>\n",
       "    </tr>\n",
       "    <tr>\n",
       "      <th>2287</th>\n",
       "      <td>5/10/2018</td>\n",
       "      <td>2723.070068</td>\n",
       "      <td>125.180000</td>\n",
       "      <td>14.4100</td>\n",
       "      <td>15.7400</td>\n",
       "      <td>1.191753</td>\n",
       "    </tr>\n",
       "    <tr>\n",
       "      <th>2288</th>\n",
       "      <td>5/14/2018</td>\n",
       "      <td>2730.129883</td>\n",
       "      <td>124.489998</td>\n",
       "      <td>14.3800</td>\n",
       "      <td>15.5600</td>\n",
       "      <td>1.193118</td>\n",
       "    </tr>\n",
       "    <tr>\n",
       "      <th>2289</th>\n",
       "      <td>5/16/2018</td>\n",
       "      <td>2725.780029</td>\n",
       "      <td>122.543800</td>\n",
       "      <td>14.4058</td>\n",
       "      <td>15.4542</td>\n",
       "      <td>1.182033</td>\n",
       "    </tr>\n",
       "  </tbody>\n",
       "</table>\n",
       "</div>"
      ],
      "text/plain": [
       "           Date          SPX         GLD      USO      SLV   EUR/USD\n",
       "2285   5/8/2018  2671.919922  124.589996  14.0600  15.5100  1.186789\n",
       "2286   5/9/2018  2697.790039  124.330002  14.3700  15.5300  1.184722\n",
       "2287  5/10/2018  2723.070068  125.180000  14.4100  15.7400  1.191753\n",
       "2288  5/14/2018  2730.129883  124.489998  14.3800  15.5600  1.193118\n",
       "2289  5/16/2018  2725.780029  122.543800  14.4058  15.4542  1.182033"
      ]
     },
     "execution_count": 30,
     "metadata": {},
     "output_type": "execute_result"
    }
   ],
   "source": [
    "gold_data.tail()"
   ]
  },
  {
   "cell_type": "code",
   "execution_count": null,
   "id": "aeef9bcf",
   "metadata": {},
   "outputs": [
    {
     "name": "stderr",
     "output_type": "stream",
     "text": [
      "/Users/cinthiyasingh/opt/anaconda3/lib/python3.9/site-packages/sklearn/base.py:450: UserWarning: X does not have valid feature names, but RandomForestRegressor was fitted with feature names\n",
      "  warnings.warn(\n"
     ]
    }
   ],
   "source": [
    "from tkinter import *\n",
    "import joblib\n",
    "import numpy as np\n",
    "from sklearn import *\n",
    "def show_entry_fields():\n",
    "    p1=float(e1.get())\n",
    "    p2=float(e2.get())\n",
    "    p3=float(e3.get())\n",
    "    p4=float(e4.get())\n",
    "    model = joblib.load('model_joblib_gold')\n",
    "    result=model.predict([[p1,p2,p3,p4]])\n",
    "    \n",
    "    if result >= 122.732875:\n",
    "        Label(master, text=result).grid(row=31)\n",
    "    else:\n",
    "        Label(master, text=result).grid(row=31)\n",
    "    \n",
    "    \n",
    "master = Tk()\n",
    "master.title(\"Gold Price Prediction System\")\n",
    "\n",
    "\n",
    "label = Label(master, text = \"Gold Price Prediction System\"\n",
    "                          , bg = \"black\", fg = \"white\"). \\\n",
    "                               grid(row=0,columnspan=2)\n",
    "\n",
    "\n",
    "Label(master, text=\"Enter SPX\").grid(row=1)\n",
    "Label(master, text=\"Enter USO\").grid(row=2)\n",
    "Label(master, text=\"Enter SLV\").grid(row=3)\n",
    "Label(master, text=\"Enter EUR/USD\").grid(row=4)\n",
    "\n",
    "\n",
    "\n",
    "\n",
    "e1 = Entry(master)\n",
    "e2 = Entry(master)\n",
    "e3 = Entry(master)\n",
    "e4 = Entry(master)\n",
    "\n",
    "e1.grid(row=1, column=1)\n",
    "e2.grid(row=2, column=1)\n",
    "e3.grid(row=3, column=1)\n",
    "e4.grid(row=4, column=1)\n",
    "\n",
    "\n",
    "\n",
    "Button(master, text='Predict', command=show_entry_fields).grid()\n",
    "\n",
    "mainloop()"
   ]
  },
  {
   "cell_type": "code",
   "execution_count": null,
   "id": "c0429e2b",
   "metadata": {},
   "outputs": [],
   "source": []
  },
  {
   "cell_type": "code",
   "execution_count": null,
   "id": "d36998f9",
   "metadata": {},
   "outputs": [],
   "source": []
  },
  {
   "cell_type": "code",
   "execution_count": null,
   "id": "e9996b3f",
   "metadata": {},
   "outputs": [],
   "source": []
  }
 ],
 "metadata": {
  "kernelspec": {
   "display_name": "Python 3 (ipykernel)",
   "language": "python",
   "name": "python3"
  },
  "language_info": {
   "codemirror_mode": {
    "name": "ipython",
    "version": 3
   },
   "file_extension": ".py",
   "mimetype": "text/x-python",
   "name": "python",
   "nbconvert_exporter": "python",
   "pygments_lexer": "ipython3",
   "version": "3.9.13"
  }
 },
 "nbformat": 4,
 "nbformat_minor": 5
}
